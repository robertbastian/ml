{
 "cells": [
  {
   "cell_type": "markdown",
   "metadata": {},
   "source": [
    "# A Naive Bayes Classifier"
   ]
  },
  {
   "cell_type": "code",
   "execution_count": 196,
   "metadata": {
    "collapsed": false
   },
   "outputs": [],
   "source": [
    "import numpy as np\n",
    "np.seterr(divide='ignore') # happy with log(0) = -inf\n",
    "from math import log, pi\n",
    "\n",
    "class NBC:\n",
    "    def __init__(self, feature_types):\n",
    "        self.feature_types = feature_types\n",
    "    \n",
    "    def fit(self, X, y):\n",
    "        if hasattr(self, \"logpi\"):\n",
    "            raise Exception(\"Already fitted\")\n",
    "        if X.shape[1] != len(self.feature_types):\n",
    "            raise Exception(\"Wrong number of features\")\n",
    "                    \n",
    "        self.classes = np.unique(y)\n",
    "        self.class_map = {v: k[0] for k, v in np.ndenumerate(self.classes)}\n",
    "                    \n",
    "        self.logpi = np.log([np.count_nonzero(y == c) for c in self.classes]) - log(y.shape[0])\n",
    "        \n",
    "        means = []\n",
    "        stddevs = []\n",
    "        for class_ in self.classes:\n",
    "            X_ = X[np.where(y == class_)]\n",
    "            means.append(np.mean(X_, axis = 0))\n",
    "            stddevs.append(np.std(X_, axis = 0))\n",
    "        self.means = np.array(means).T\n",
    "        self.stddevs = np.array(stddevs).T\n",
    "        \n",
    "    def predict(self, X):\n",
    "        if X.shape[1] != len(self.feature_types):\n",
    "            raise Exception(\"Wrong number of features\")        \n",
    "        \n",
    "        X = np.repeat(np.expand_dims(X, axis=2), self.classes.size, axis=2)\n",
    "        # X.shape == (data, features, classes)\n",
    "        \n",
    "        for class_ in range(self.classes.size):\n",
    "            bernoulli_features = np.where(self.feature_types == 'b')[0]\n",
    "            if bernoulli_features.shape[0] > 0:\n",
    "                # Set X[data, feature, class] = log(P(X[data, feature, class) | mean[feature, class]))\n",
    "                # for Bernoulli features using the pmf\n",
    "                mean = self.means[bernoulli_features, class_]\n",
    "                X[:, bernoulli_features, class_] = X[:, bernoulli_features, class_]*np.log(mean) + (1-X[:, bernoulli_features, class_]) * np.log(1-mean)\n",
    "            gaussian_features = np.where(self.feature_types == 'r')[0]\n",
    "            if gaussian_features.shape[0] > 0:\n",
    "                mean = self.means[gaussian_features, class_]\n",
    "                stddev = self.stddevs[gaussian_features, class_]\n",
    "                # Set X[data, feature, class] = log(P(X[data, feature, class) | mean[feature, class], stddev[feature, class]))\n",
    "                # for Normal features using the pdf\n",
    "                X[:, gaussian_features, class_] = -1/2*np.log(2*pi*stddev) - (X[:, gaussian_features, class_]-mean)**2/2/stddev \n",
    "        \n",
    "        X = np.sum(X, axis = 1) + self.logpi\n",
    "        # X[data, class] = log(P(data | class))\n",
    "\n",
    "        y = np.argmax(X, axis=1)\n",
    "        # y[data] == argmax_c P(data | class)\n",
    "                \n",
    "        return self.classes[y]"
   ]
  },
  {
   "cell_type": "markdown",
   "metadata": {},
   "source": [
    "# LR Regularisation\n",
    "In `LogisticRegression` the parameter $C$ is multiplied with everything but the regularization term of the optimization function, so setting $C = \\lambda^{-1}$ gives the same minimum as multiplying $\\lambda$ with the regularization term."
   ]
  },
  {
   "cell_type": "code",
   "execution_count": 223,
   "metadata": {
    "collapsed": false
   },
   "outputs": [],
   "source": [
    "from sklearn.linear_model import LogisticRegression\n",
    "import matplotlib.pyplot as plt\n",
    "\n",
    "def trainAndReportError(classifier, X_train, y_train, X_test, y_test):\n",
    "    classifier.fit(X_train, y_train)\n",
    "    return np.mean(classifier.predict(X_train) == y_train)\n",
    "\n",
    "def compare(X, y, features):\n",
    "    index_series = range(10, 101, 10)\n",
    "    nbc_series = np.zeros(len(index_series))\n",
    "    lr_series = np.zeros(len(index_series))\n",
    "    \n",
    "    runs = 1000\n",
    "    for run in range(runs):\n",
    "        N, D = X.shape\n",
    "        Ntrain = int(0.8 * N)\n",
    "        shuffler = np.random.permutation(N)\n",
    "        Xtrain = X[shuffler[:Ntrain]]\n",
    "        ytrain = y[shuffler[:Ntrain]]\n",
    "        Xtest = X[shuffler[Ntrain:]]\n",
    "        ytest = y[shuffler[Ntrain:]]\n",
    "        nbc_errors = [trainAndReportError(NBC(features), Xtrain[:Ntrain*i/100], ytrain[:Ntrain*i/100], Xtest, ytest) \n",
    "                      for i in index_series]\n",
    "        lr_errors = [trainAndReportError(LogisticRegression(C = 10), Xtrain[:Ntrain*i/100], ytrain[:Ntrain*i/100], Xtest, ytest) \n",
    "                     for i in index_series]\n",
    "        nbc_series += np.array(nbc_errors)\n",
    "        lr_series += np.array(lr_errors)\n",
    "        \n",
    "    nbc_series /= runs\n",
    "    lr_series /= runs\n",
    "\n",
    "    plt.plot(index_series, nbc_series, 'b')\n",
    "    plt.plot(index_series, lr_series, 'r')\n",
    "    plt.show()"
   ]
  },
  {
   "cell_type": "markdown",
   "metadata": {},
   "source": [
    "# Iris Dataset\n",
    "We're plotting testing error for NBC (blue) and LR (red) against the percentage of the training set that the classifiers were trained on."
   ]
  },
  {
   "cell_type": "code",
   "execution_count": 224,
   "metadata": {
    "collapsed": false
   },
   "outputs": [
    {
     "name": "stderr",
     "output_type": "stream",
     "text": [
      "/Users/rb/anaconda/lib/python2.7/site-packages/ipykernel/__main__.py:49: RuntimeWarning: invalid value encountered in divide\n",
      "/Users/rb/anaconda/lib/python2.7/site-packages/ipykernel/__main__.py:49: RuntimeWarning: invalid value encountered in subtract\n"
     ]
    },
    {
     "data": {
      "image/png": "[encoded data removed]",
      "text/plain": [
       "<matplotlib.figure.Figure at 0x11106b650>"
      ]
     },
     "metadata": {},
     "output_type": "display_data"
    }
   ],
   "source": [
    "from sklearn.datasets import load_iris\n",
    "iris = load_iris()\n",
    "compare(iris['data'], iris['target'], np.repeat('r', 4))"
   ]
  },
  {
   "cell_type": "markdown",
   "metadata": {},
   "source": [
    "# Congress Dataset\n",
    "We're plotting testing error for NBC (blue) and LR (red) against the percentage of the training set that the classifiers were trained on."
   ]
  },
  {
   "cell_type": "code",
   "execution_count": 225,
   "metadata": {
    "collapsed": false
   },
   "outputs": [
    {
     "name": "stderr",
     "output_type": "stream",
     "text": [
      "/Users/rb/anaconda/lib/python2.7/site-packages/ipykernel/__main__.py:42: RuntimeWarning: invalid value encountered in multiply\n"
     ]
    },
    {
     "data": {
      "image/png": "[encoded data removed]",
      "text/plain": [
       "<matplotlib.figure.Figure at 0x11030f490>"
      ]
     },
     "metadata": {},
     "output_type": "display_data"
    }
   ],
   "source": [
    "X, y = cp.load(open('data/voting.cPickle', 'rb'))\n",
    "compare(X, y, np.repeat('b', X.shape[1]))"
   ]
  }
 ],
 "metadata": {
  "anaconda-cloud": {},
  "kernelspec": {
   "display_name": "Python [conda root]",
   "language": "python",
   "name": "conda-root-py"
  },
  "language_info": {
   "codemirror_mode": {
    "name": "ipython",
    "version": 2
   },
   "file_extension": ".py",
   "mimetype": "text/x-python",
   "name": "python",
   "nbconvert_exporter": "python",
   "pygments_lexer": "ipython2",
   "version": "2.7.12"
  }
 },
 "nbformat": 4,
 "nbformat_minor": 1
}
