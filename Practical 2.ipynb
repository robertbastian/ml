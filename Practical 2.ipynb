{
 "cells": [
  {
   "cell_type": "code",
   "execution_count": 1,
   "metadata": {
    "collapsed": false
   },
   "outputs": [],
   "source": [
    "import numpy as np\n",
    "np.seterr(divide='ignore') # happy with log(0) = -inf\n",
    "from math import log, pi\n",
    "\n",
    "class NBC:\n",
    "    def __init__(self, feature_types, num_classes):\n",
    "        self.feature_types = feature_types\n",
    "        self.num_features = len(feature_types)\n",
    "        self.num_classes = int(num_classes)        \n",
    "    \n",
    "    def fit(self, X, y):\n",
    "        if hasattr(self, \"logpi\"):\n",
    "            raise Exception(\"Already fitted\")\n",
    "        if X.shape[1] != self.num_features:\n",
    "            raise Exception(\"Wrong number of features\")\n",
    "                    \n",
    "        self.classes = np.unique(y)\n",
    "        if len(self.classes) != self.num_classes:\n",
    "            raise Execption(\"Wrong number of classes\")\n",
    "        self.class_map = {v: k[0] for k, v in np.ndenumerate(self.classes)}\n",
    "                    \n",
    "        self.logpi = np.log([np.count_nonzero(y == c) for c in self.classes]) - log(y.shape[0])\n",
    "        \n",
    "        self.means = []\n",
    "        self.stddevs = []\n",
    "        for i in range(0, self.num_classes):\n",
    "            X_ = X[np.where(y == self.class_map[i])]\n",
    "            self.means.append(np.mean(X_, axis = 0))\n",
    "            self.stddevs.append(np.std(X_, axis = 0))\n",
    "        self.means = np.array(self.means).T\n",
    "        self.stddevs = np.array(self.stddevs).T\n",
    "        \n",
    "    def predict(self, X):\n",
    "        if X.shape[1] != self.num_features:\n",
    "            raise Exception(\"Wrong number of features\")        \n",
    "        \n",
    "        X = np.repeat(np.expand_dims(X, axis=2), self.num_classes, axis=2)\n",
    "        # X.shape == (data, features, classes)\n",
    "        \n",
    "        for class_ in range(self.num_classes):\n",
    "            bernoulli_features = np.where(self.feature_types == 'b')[0]\n",
    "            if bernoulli_features.shape[0] > 0:\n",
    "                # Set X[data, feature, class] = log(P(X[data, feature, class) | mean[feature, class]))\n",
    "                # for Bernoulli features using the pmf\n",
    "                mean = self.means[bernoulli_features, class_]\n",
    "                X[:, bernoulli_features, class_] = X[:, bernoulli_features, class_]*np.log(mean) + (1-X[:, bernoulli_features, class_]) * np.log(1-mean)\n",
    "            gaussian_features = np.where(self.feature_types == 'r')[0]\n",
    "            if gaussian_features.shape[0] > 0:\n",
    "                mean = self.means[gaussian_features, class_]\n",
    "                stddev = self.stddevs[gaussian_features, class_]\n",
    "                # Set X[data, feature, class] = log(P(X[data, feature, class) | mean[feature, class], stddev[feature, class]))\n",
    "                # for Normal features using the pdf\n",
    "                X[:, gaussian_features, class_] = -1/2*np.log(2*pi*stddev) - (X[:, gaussian_features, class_]-mean)**2/2/stddev \n",
    "        \n",
    "        X = np.sum(X, axis = 1) + self.logpi\n",
    "        # X[data, class] = log(P(data | class))\n",
    "\n",
    "        y = np.argmax(X, axis=1)\n",
    "        # y[data] == argmax_c P(data | class)\n",
    "                \n",
    "        return self.classes[y]"
   ]
  },
  {
   "cell_type": "code",
   "execution_count": 2,
   "metadata": {
    "collapsed": false
   },
   "outputs": [],
   "source": [
    "def partition(X, y, factor=0.8):\n",
    "    N, D = X.shape\n",
    "    N_train = int(factor * N)\n",
    "    return X[:N_train], y[:N_train], X[N_train:], y[N_train:]\n",
    "\n",
    "report_string = \"{}\\nTrain: {:.5f}\\nTest:  {:.5f}\\n\"\n",
    "\n",
    "def compare(methods, X, y):\n",
    "    X_train, y_train, X_test, y_test = partition(X, y)\n",
    "    for (method, classifier) in methods:\n",
    "        classifier.fit(X_train, y_train)\n",
    "        train_accuracy = np.mean(classifier.predict(X_train) == y_train)\n",
    "        test_accuracy = np.mean(classifier.predict(X_test) == y_test)\n",
    "        print report_string.format(method, train_accuracy, test_accuracy)"
   ]
  },
  {
   "cell_type": "code",
   "execution_count": 3,
   "metadata": {
    "collapsed": false
   },
   "outputs": [
    {
     "name": "stdout",
     "output_type": "stream",
     "text": [
      "My NBC\n",
      "Train: 0.96757\n",
      "Test:  0.97872\n",
      "\n",
      "SKLearn\n",
      "Train: 0.90270\n",
      "Test:  0.97872\n",
      "\n"
     ]
    },
    {
     "name": "stderr",
     "output_type": "stream",
     "text": [
      "/Users/rb/anaconda/lib/python2.7/site-packages/ipykernel/__main__.py:46: RuntimeWarning: invalid value encountered in multiply\n"
     ]
    }
   ],
   "source": [
    "from sklearn.naive_bayes import BernoulliNB \n",
    "import cPickle as cp\n",
    "\n",
    "X, y = cp.load(open('data/voting.cPickle', 'rb'))\n",
    "compare([(\"My NBC\", NBC(np.repeat('b', 16), 2)), (\"SKLearn\",BernoulliNB())], X, y)"
   ]
  },
  {
   "cell_type": "code",
   "execution_count": 4,
   "metadata": {
    "collapsed": false
   },
   "outputs": [
    {
     "name": "stdout",
     "output_type": "stream",
     "text": [
      " My NBC\n",
      "Train: 0.95833\n",
      "Test:  0.66667\n",
      "\n",
      "SKLearn\n",
      "Train: 0.92500\n",
      "Test:  0.43333\n",
      "\n"
     ]
    }
   ],
   "source": [
    "from sklearn.linear_model import LogisticRegression\n",
    "from sklearn.datasets import load_iris\n",
    "\n",
    "iris = load_iris()\n",
    "X, y = iris['data'], iris['target']\n",
    "\n",
    "compare([(\" My NBC\", NBC(np.repeat('r', 4), 3)), (\"SKLearn\", LogisticRegression())], X, y)"
   ]
  }
 ],
 "metadata": {
  "anaconda-cloud": {},
  "kernelspec": {
   "display_name": "Python [conda root]",
   "language": "python",
   "name": "conda-root-py"
  },
  "language_info": {
   "codemirror_mode": {
    "name": "ipython",
    "version": 2
   },
   "file_extension": ".py",
   "mimetype": "text/x-python",
   "name": "python",
   "nbconvert_exporter": "python",
   "pygments_lexer": "ipython2",
   "version": "2.7.12"
  }
 },
 "nbformat": 4,
 "nbformat_minor": 1
}
