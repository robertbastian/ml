{
 "cells": [
  {
   "cell_type": "markdown",
   "metadata": {},
   "source": [
    "# A Naive Bayes Classifier"
   ]
  },
  {
   "cell_type": "code",
   "execution_count": 1,
   "metadata": {
    "collapsed": false
   },
   "outputs": [],
   "source": [
    "import numpy as np\n",
    "np.seterr(divide='ignore') # happy with log(0) = -inf\n",
    "from math import log, pi\n",
    "\n",
    "class NBC:\n",
    "    def __init__(self, feature_types):\n",
    "        self.feature_types = feature_types\n",
    "    \n",
    "    def fit(self, X, y):\n",
    "        if hasattr(self, \"logpi\"):\n",
    "            raise Exception(\"Already fitted\")\n",
    "        if X.shape[1] != len(self.feature_types):\n",
    "            raise Exception(\"Wrong number of features\")\n",
    "                    \n",
    "        self.classes = np.unique(y)\n",
    "        self.class_map = {v: k[0] for k, v in np.ndenumerate(self.classes)}\n",
    "                    \n",
    "        self.logpi = np.log([np.count_nonzero(y == c) for c in self.classes]) - log(y.shape[0])\n",
    "        \n",
    "        means = []\n",
    "        stddevs = []\n",
    "        for c in self.classes:\n",
    "            X_ = X[np.where(y == c)]\n",
    "            means.append(np.mean(X_, axis = 0))\n",
    "            stddevs.append(np.std(X_, axis = 0))\n",
    "        self.means = np.array(means)\n",
    "        self.stddevs = np.array(stddevs)\n",
    "        \n",
    "    def predict(self, X):\n",
    "        N, f = X.shape\n",
    "        if f != len(self.feature_types):\n",
    "            raise Exception(\"Wrong number of features\")       \n",
    "        \n",
    "        # P[i, class] = log(P(X[i] | class))\n",
    "        P = np.zeros((N,self.classes.size))\n",
    "        \n",
    "        # Add the priors\n",
    "        P += self.logpi\n",
    "                \n",
    "        # Add log(P(X[i, feature, class) | mean[feature, class])) to the probabilites\n",
    "        b = np.where(self.feature_types == 'b')\n",
    "        g = np.where(self.feature_types == 'r')\n",
    "        for c in range(self.classes.size):\n",
    "            P_b = X[:, b]*np.log(self.means[c, b]) + (1-X[:, b]) * np.log(1-self.means[c, b])\n",
    "            P_r = -1/2*np.log(2*pi*self.stddevs[c, g]) - (X[:, g]-self.means[c, g])**2/2/self.stddevs[c, g]\n",
    "            \n",
    "            P[:, c] = P[:, c] + np.sum(P_b, axis = 2).reshape((N,)) + np.sum(P_r, axis = 2).reshape((N,))\n",
    "            \n",
    "        y = np.argmax(P, axis=1)\n",
    "        # y[i] == argmax_c P(X[i] | c)\n",
    "                \n",
    "        return self.classes[y]"
   ]
  },
  {
   "cell_type": "markdown",
   "metadata": {},
   "source": [
    "# LR Regularisation\n",
    "In `LogisticRegression` the parameter $C$ is multiplied with everything but the regularization term of the optimization function, so setting $C = \\lambda^{-1}$ gives the same minimum as multiplying $\\lambda$ with the regularization term."
   ]
  },
  {
   "cell_type": "code",
   "execution_count": 2,
   "metadata": {
    "collapsed": false
   },
   "outputs": [
    {
     "name": "stderr",
     "output_type": "stream",
     "text": [
      "/Users/rb/anaconda/lib/python2.7/site-packages/matplotlib/font_manager.py:273: UserWarning: Matplotlib is building the font cache using fc-list. This may take a moment.\n",
      "  warnings.warn('Matplotlib is building the font cache using fc-list. This may take a moment.')\n"
     ]
    }
   ],
   "source": [
    "from sklearn.linear_model import LogisticRegression\n",
    "import matplotlib.pyplot as plt\n",
    "%matplotlib inline\n",
    "\n",
    "def trainAndReportError(classifier, X_train, y_train, X_test, y_test):\n",
    "    classifier.fit(X_train, y_train)\n",
    "    return np.mean(classifier.predict(X_test) == y_test)\n",
    "\n",
    "def compare(X, y, features):\n",
    "    index_series = range(10, 101, 10)\n",
    "    nbc_series = np.zeros(len(index_series))\n",
    "    lr_series = np.zeros(len(index_series))\n",
    "    \n",
    "    runs = 1000\n",
    "    for run in range(runs):\n",
    "        N, D = X.shape\n",
    "        Ntrain = int(0.8 * N)\n",
    "        shuffler = np.random.permutation(N)\n",
    "        Xtrain = X[shuffler[:Ntrain]]\n",
    "        ytrain = y[shuffler[:Ntrain]]\n",
    "        Xtest = X[shuffler[Ntrain:]]\n",
    "        ytest = y[shuffler[Ntrain:]]\n",
    "        nbc_errors = [trainAndReportError(NBC(features), Xtrain[:Ntrain*i/100], ytrain[:Ntrain*i/100], Xtest, ytest) \n",
    "                      for i in index_series]\n",
    "        lr_errors = [trainAndReportError(LogisticRegression(C = 10), Xtrain[:Ntrain*i/100], ytrain[:Ntrain*i/100], Xtest, ytest) \n",
    "                     for i in index_series]\n",
    "        nbc_series += np.array(nbc_errors)\n",
    "        lr_series += np.array(lr_errors)\n",
    "        \n",
    "    nbc_series /= runs\n",
    "    lr_series /= runs\n",
    "\n",
    "    plt.plot(index_series, nbc_series, 'b')\n",
    "    plt.plot(index_series, lr_series, 'r')\n",
    "    plt.show()"
   ]
  },
  {
   "cell_type": "markdown",
   "metadata": {},
   "source": [
    "# Iris Dataset\n",
    "We're plotting testing error for NBC (blue) and LR (red) against the percentage of the training set that the classifiers were trained on."
   ]
  },
  {
   "cell_type": "code",
   "execution_count": 3,
   "metadata": {
    "collapsed": false
   },
   "outputs": [
    {
     "name": "stderr",
     "output_type": "stream",
     "text": [
      "/Users/rb/anaconda/lib/python2.7/site-packages/ipykernel/__main__.py:45: RuntimeWarning: invalid value encountered in divide\n",
      "/Users/rb/anaconda/lib/python2.7/site-packages/ipykernel/__main__.py:45: RuntimeWarning: invalid value encountered in subtract\n"
     ]
    },
    {
     "data": {
      "image/png": "[encoded data removed]",
      "text/plain": [
       "<matplotlib.figure.Figure at 0x10449dad0>"
      ]
     },
     "metadata": {},
     "output_type": "display_data"
    }
   ],
   "source": [
    "from sklearn.datasets import load_iris\n",
    "iris = load_iris()\n",
    "compare(iris['data'], iris['target'], np.repeat('r', 4))"
   ]
  },
  {
   "cell_type": "markdown",
   "metadata": {},
   "source": [
    "# Congress Dataset\n",
    "We're plotting testing error for NBC (blue) and LR (red) against the percentage of the training set that the classifiers were trained on."
   ]
  },
  {
   "cell_type": "code",
   "execution_count": 4,
   "metadata": {
    "collapsed": false
   },
   "outputs": [
    {
     "name": "stderr",
     "output_type": "stream",
     "text": [
      "/Users/rb/anaconda/lib/python2.7/site-packages/ipykernel/__main__.py:44: RuntimeWarning: invalid value encountered in multiply\n"
     ]
    },
    {
     "data": {
      "image/png": "[encoded data removed]",
      "text/plain": [
       "<matplotlib.figure.Figure at 0x1044b9d50>"
      ]
     },
     "metadata": {},
     "output_type": "display_data"
    }
   ],
   "source": [
    "import cPickle as cp\n",
    "X, y = cp.load(open('data/voting.cPickle', 'rb'))\n",
    "compare(X, y, np.repeat('b', X.shape[1]))"
   ]
  }
 ],
 "metadata": {
  "anaconda-cloud": {},
  "kernelspec": {
   "display_name": "Python [conda root]",
   "language": "python",
   "name": "conda-root-py"
  },
  "language_info": {
   "codemirror_mode": {
    "name": "ipython",
    "version": 2
   },
   "file_extension": ".py",
   "mimetype": "text/x-python",
   "name": "python",
   "nbconvert_exporter": "python",
   "pygments_lexer": "ipython2",
   "version": "2.7.12"
  }
 },
 "nbformat": 4,
 "nbformat_minor": 1
}
